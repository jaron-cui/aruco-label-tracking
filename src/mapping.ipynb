{
 "cells": [
  {
   "cell_type": "code",
   "execution_count": 161,
   "id": "initial_id",
   "metadata": {
    "collapsed": true,
    "ExecuteTime": {
     "end_time": "2025-04-04T19:44:34.757250Z",
     "start_time": "2025-04-04T19:44:34.752495Z"
    }
   },
   "outputs": [],
   "source": [
    "import cv2\n",
    "import numpy as np\n",
    "import matplotlib.pyplot as plt\n",
    "import torch"
   ]
  },
  {
   "cell_type": "code",
   "outputs": [],
   "source": [
    "class TruncatedNormal(torch.distributions.Normal):\n",
    "    def __init__(self, loc: float, scale: float, lo: float, hi: float):\n",
    "        super().__init__(loc, scale)\n",
    "        self.lo = lo\n",
    "        self.hi = hi\n",
    "        \n",
    "    def sample(self, sample_shape=torch.Size()):\n",
    "        sampled = super().sample(sample_shape)\n",
    "        return sampled.clamp(self.lo, self.hi)\n",
    "        "
   ],
   "metadata": {
    "collapsed": false,
    "ExecuteTime": {
     "end_time": "2025-04-04T19:44:34.762253Z",
     "start_time": "2025-04-04T19:44:34.758742Z"
    }
   },
   "id": "e1235aea4465b39c",
   "execution_count": 162
  },
  {
   "cell_type": "code",
   "outputs": [
    {
     "data": {
      "text/plain": "<matplotlib.image.AxesImage at 0x23e21586210>"
     },
     "execution_count": 163,
     "metadata": {},
     "output_type": "execute_result"
    },
    {
     "data": {
      "text/plain": "<Figure size 640x480 with 1 Axes>",
      "image/png": "[encoded data removed]"
     },
     "metadata": {},
     "output_type": "display_data"
    }
   ],
   "source": [
    "hue_range = [22, 37]\n",
    "saturation_range = [0, 255]\n",
    "value_range = [180, 255]\n",
    "hue_mean = 30\n",
    "saturation_mean = 200\n",
    "value_mean = 255\n",
    "hue_dist = TruncatedNormal(TruncatedNormal(hue_mean, 7, *hue_range).sample(), 3, *hue_range)\n",
    "hue_dist2 = TruncatedNormal(TruncatedNormal(120, 9, 105, 130).sample(), 5, 105, 130)\n",
    "saturation_dist = TruncatedNormal(saturation_mean, 50, *saturation_range)\n",
    "value_dist = TruncatedNormal((value_mean - value_range[0]) / (value_range[1] - value_range[0]), 0.5, 0, 1)\n",
    "\n",
    "channel_shape = 100, 100\n",
    "border_width = np.random.randint(8, 12)\n",
    "hue = hue_dist.sample(channel_shape)\n",
    "hue2 = hue_dist2.sample(channel_shape)\n",
    "hue, hue2 = cv2.blur(np.array(hue), (3, 3)), cv2.blur(np.array(hue2), (3, 3))\n",
    "hue2[border_width:-border_width, border_width:-border_width] = hue[border_width:-border_width, border_width:-border_width]\n",
    "saturation = saturation_dist.sample(channel_shape)\n",
    "value_interval = saturation / (saturation_range[1] - saturation_range[0]) * (value_range[1] - value_range[0])\n",
    "value = value_range[1] - (1 - value_dist.sample(channel_shape)) * value_interval\n",
    "\n",
    "background = np.stack([hue2, saturation, value], axis=2).astype(np.uint8)\n",
    "\n",
    "lemon_label_image = cv2.cvtColor(background, cv2.COLOR_HSV2RGB)\n",
    "lemon_label_image = cv2.blur(lemon_label_image, (4, 4))\n",
    "plt.imshow(cv2.resize(lemon_label_image, (50, 50), interpolation=cv2.INTER_AREA))"
   ],
   "metadata": {
    "collapsed": false,
    "ExecuteTime": {
     "end_time": "2025-04-04T19:44:34.832906Z",
     "start_time": "2025-04-04T19:44:34.762253Z"
    }
   },
   "id": "e729f0e6677045ce",
   "execution_count": 163
  },
  {
   "cell_type": "code",
   "outputs": [],
   "source": [],
   "metadata": {
    "collapsed": false,
    "ExecuteTime": {
     "end_time": "2025-04-04T19:44:34.836438Z",
     "start_time": "2025-04-04T19:44:34.833912Z"
    }
   },
   "id": "a7459b8b02eb7886",
   "execution_count": 163
  }
 ],
 "metadata": {
  "kernelspec": {
   "display_name": "Python 3",
   "language": "python",
   "name": "python3"
  },
  "language_info": {
   "codemirror_mode": {
    "name": "ipython",
    "version": 2
   },
   "file_extension": ".py",
   "mimetype": "text/x-python",
   "name": "python",
   "nbconvert_exporter": "python",
   "pygments_lexer": "ipython2",
   "version": "2.7.6"
  }
 },
 "nbformat": 4,
 "nbformat_minor": 5
}
